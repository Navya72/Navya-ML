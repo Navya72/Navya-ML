VGG16 Transfer Learning Approach Deep Convolutional Neural networks may take days to train and require lots of computational resources. So to overcome this we will use Transfer Learning for implementing VGG16 with Keras.

Transfer learning is a technique whereby a deep neural network model that was trained earlier on a similar problem is leveraged to create a new model at hand. One or more layers from the already trained model are used in the new model. We will go through more details in a subsequent section below.

Define training and testing path of dataset It is necessary to put the images of both classes of dog and cat in separate subfolders under train and test folder

from google.colab import drive
drive.mount('/content/gdrive')
Mounted at /content/gdrive
Reading sample Images Let us just read a couple of random images for the data set to see what types of images we have. The use of cv2.imshow is disabled in Colab because it causes Jupyter sessions to crash, so as a substitution, we are using cv2_imshow().

import cv2
import numpy as np
import os
from keras.preprocessing.image import ImageDataGenerator
from keras.layers import Dense,Flatten,Conv2D,Activation,Dropout
from keras import backend as K
import keras
from keras.models import Sequential, Model
from keras.models import load_model
from tensorflow.keras.optimizers import SGD
from keras.callbacks import EarlyStopping,ModelCheckpoint
from keras.layers import MaxPool2D
from google.colab.patches import cv2_imshow
Preparation of datasets We generally encountered problems where we try to load a dataset but there is not enough memory in your machine.

Keras provides the ImageDataGenerator class that defines the configuration for image data preparation and augmentation. The generator will progressively load the images in your dataset, allowing you to work with both small and very large datasets containing thousands or millions of images that may not fit into system memory.

train_path="/content/gdrive/MyDrive/Transfer Learning/Train"
test_path="/content/gdrive/MyDrive/Transfer Learning/Validation"
class_names=os.listdir(train_path)
class_names_test=os.listdir(test_path)
from google.colab import drive
drive.mount('/content/drive')
Mounted at /content/drive
print(class_names)
print(class_names_test)
#Sample datasets images
image_dog=cv2.imread("/content/drive/MyDrive/Transfer Learning/Train/dog/Dog-Picture6.jpg")
cv2_imshow(image_dog)
image_cat=cv2.imread("/content/drive/MyDrive/Transfer Learning/Train/cat/cat001.jpg")
cv2_imshow(image_cat)
train_datagen = ImageDataGenerator(zoom_range=0.15,width_shift_range=0.2,height_shift_range=0.2,shear_range=0.15)
test_datagen = ImageDataGenerator(zoom_range=0.15,width_shift_range=0.2,height_shift_range=0.2,shear_range=0.15)
train_generator = train_datagen.flow_from_directory("/content/drive/MyDrive/Transfer Learning/Train/",target_size=(224, 224),batch_size=32,shuffle=True,class_mode='binary')
test_generator = test_datagen.flow_from_directory("/content/drive/MyDrive/Transfer Learning/Validation",target_size=(224,224),batch_size=32,shuffle=False,class_mode='binary')
Found 3 images belonging to 2 classes.
Found 4 images belonging to 2 classes.

